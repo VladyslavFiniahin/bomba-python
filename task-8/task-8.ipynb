{
 "cells": [
  {
   "cell_type": "code",
   "execution_count": 1,
   "metadata": {},
   "outputs": [
    {
     "ename": "TypeError",
     "evalue": "WebDriver.get() missing 1 required positional argument: 'url'",
     "output_type": "error",
     "traceback": [
      "\u001b[1;31m---------------------------------------------------------------------------\u001b[0m",
      "\u001b[1;31mTypeError\u001b[0m                                 Traceback (most recent call last)",
      "Cell \u001b[1;32mIn[1], line 18\u001b[0m\n\u001b[0;32m     15\u001b[0m news_count \u001b[38;5;241m=\u001b[39m {}\n\u001b[0;32m     17\u001b[0m \u001b[38;5;28;01mfor\u001b[39;00m source \u001b[38;5;129;01min\u001b[39;00m sources:\n\u001b[1;32m---> 18\u001b[0m     driver\u001b[38;5;241m.\u001b[39mget(source)\n\u001b[0;32m     19\u001b[0m     search_box \u001b[38;5;241m=\u001b[39m driver\u001b[38;5;241m.\u001b[39mfind_element(By\u001b[38;5;241m.\u001b[39mNAME, \u001b[38;5;124m\"\u001b[39m\u001b[38;5;124msearch\u001b[39m\u001b[38;5;124m\"\u001b[39m) \n\u001b[0;32m     20\u001b[0m     search_box\u001b[38;5;241m.\u001b[39msend_keys(key_phrase)\n",
      "\u001b[1;31mTypeError\u001b[0m: WebDriver.get() missing 1 required positional argument: 'url'"
     ]
    }
   ],
   "source": [
    "from selenium import webdriver\n",
    "from selenium.webdriver.common.by import By\n",
    "from selenium.webdriver.common.keys import Keys\n",
    "import time\n",
    "from datetime import datetime, timedelta\n",
    "import matplotlib.pyplot as plt\n",
    "\n",
    "driver = webdriver.Chrome\n",
    "\n",
    "key_phrase = \"літак\"\n",
    "sources = [\"https://www.ukrinform.ua/\"]\n",
    "\n",
    "date_limit = datetime.now() - timedelta(days=180)\n",
    "\n",
    "news_count = {}\n",
    "\n",
    "for source in sources:\n",
    "    driver.get(source)\n",
    "    search_box = driver.find_element(By.NAME, \"search\") \n",
    "    search_box.send_keys(key_phrase)\n",
    "    search_box.send_keys(Keys.RETURN)\n",
    "    time.sleep(3)\n",
    "\n",
    "    articles = driver.find_elements(By.CLASS_NAME, \"news-article\")\n",
    "    for article in articles:\n",
    "        article_date = article.find_element(By.CLASS_NAME, \"date\").text \n",
    "        article_date = datetime.strptime(article_date, \"%d.%m.%Y\")\n",
    "        if article_date >= date_limit:\n",
    "            month_key = article_date.strftime(\"%Y-%m\")\n",
    "            if month_key not in news_count:\n",
    "                news_count[month_key] = 0\n",
    "            news_count[month_key] += 1\n",
    "\n",
    "driver.quit()\n",
    "\n",
    "months = sorted(news_count.keys())\n",
    "frequencies = [news_count[month] for month in months]\n",
    "\n",
    "plt.figure(figsize=(10, 5))\n",
    "plt.bar(months, frequencies)\n",
    "plt.xlabel(\"Місяць\")\n",
    "plt.ylabel(\"Кількість згадувань фрази\")\n",
    "plt.title(f\"Частота появи фрази '{key_phrase}' за останні 6 місяців\")\n",
    "plt.xticks(rotation=45)\n",
    "plt.tight_layout()\n",
    "plt.show()\n"
   ]
  }
 ],
 "metadata": {
  "kernelspec": {
   "display_name": "base",
   "language": "python",
   "name": "python3"
  },
  "language_info": {
   "codemirror_mode": {
    "name": "ipython",
    "version": 3
   },
   "file_extension": ".py",
   "mimetype": "text/x-python",
   "name": "python",
   "nbconvert_exporter": "python",
   "pygments_lexer": "ipython3",
   "version": "3.12.4"
  }
 },
 "nbformat": 4,
 "nbformat_minor": 2
}
